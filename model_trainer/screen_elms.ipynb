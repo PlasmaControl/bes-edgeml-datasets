{
 "cells": [
  {
   "cell_type": "code",
   "execution_count": 5,
   "id": "bbaeb9dd",
   "metadata": {},
   "outputs": [],
   "source": [
    "from pathlib import Path\n",
    "import pickle\n",
    "# from model_trainer.main_multitask_v3 import main\n",
    "\n",
    "f1_cut = 0.35\n",
    "count_of_bad_elms = {}\n",
    "count_of_all_elms = {}\n",
    "\n",
    "exp_dir = Path(\"/global/homes/d/drsmith/scratch-ml/multi_256_v28\")\n",
    "# trials = sorted(exp_dir.glob(\"L3*r44*\"))\n",
    "trials = sorted(exp_dir.glob(\"L3*r4441*\"))\n",
    "for trial in trials:\n",
    "    scores_dir = trial / \"scores\"\n",
    "    score_files = sorted(scores_dir.glob(\"elm_wise_f1_scores_ep*.pkl\"), reverse=True)\n",
    "    if len(score_files) == 0:\n",
    "        continue\n",
    "    final_score_file = score_files[0]\n",
    "    with open(final_score_file, \"rb\") as f:\n",
    "        final_scores = pickle.load(f)\n",
    "    if not 'train' in final_scores:\n",
    "        continue\n",
    "    train_scores = final_scores['train']\n",
    "    for elm_id, elm_f1 in train_scores.items():\n",
    "        if elm_id not in count_of_all_elms:\n",
    "            count_of_all_elms[elm_id] = 0\n",
    "            count_of_bad_elms[elm_id] = 0\n",
    "        count_of_all_elms[elm_id] += 1\n",
    "        if elm_f1 < f1_cut:\n",
    "            count_of_bad_elms[elm_id] += 1\n",
    "fraction_bad_elms = {\n",
    "    elm_id: count_of_bad_elms[elm_id] / count_of_all_elms[elm_id] \n",
    "    for elm_id in count_of_all_elms\n",
    "    if (count_of_all_elms[elm_id] >= 3) and count_of_bad_elms[elm_id]\n",
    "}\n",
    "count_of_bad_elms = dict(sorted(count_of_bad_elms.items(), key=lambda item: item[1], reverse=True))\n",
    "count_of_all_elms = dict(sorted(count_of_all_elms.items(), key=lambda item: item[1], reverse=True))\n",
    "fraction_bad_elms = dict(sorted(fraction_bad_elms.items(), key=lambda item: item[1], reverse=True))\n",
    "bad_elms = [elm_id for elm_id in fraction_bad_elms if (fraction_bad_elms[elm_id] >= 0.2 and count_of_bad_elms[elm_id] >= 2)]\n",
    "# dump results\n",
    "with open(f\"count_of_bad_elms_{exp_dir.name}_v2.pkl\", \"wb\") as f:\n",
    "    pickle.dump(\n",
    "        {\n",
    "            \"bad_elms\": count_of_bad_elms,\n",
    "            \"all_elms\": count_of_all_elms,\n",
    "            \"fraction_bad_elms\": fraction_bad_elms,\n",
    "            \"bad_elms\": bad_elms,\n",
    "        },\n",
    "        f,\n",
    "    )"
   ]
  },
  {
   "cell_type": "code",
   "execution_count": null,
   "id": "78c7f6bd",
   "metadata": {},
   "outputs": [],
   "source": []
  }
 ],
 "metadata": {
  "kernelspec": {
   "display_name": "Python 3",
   "language": "python",
   "name": "python3"
  },
  "language_info": {
   "codemirror_mode": {
    "name": "ipython",
    "version": 3
   },
   "file_extension": ".py",
   "mimetype": "text/x-python",
   "name": "python",
   "nbconvert_exporter": "python",
   "pygments_lexer": "ipython3",
   "version": "3.12.11"
  }
 },
 "nbformat": 4,
 "nbformat_minor": 5
}
